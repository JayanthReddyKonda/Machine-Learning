{
 "cells": [
  {
   "cell_type": "markdown",
   "id": "6c0f3a59",
   "metadata": {},
   "source": [
    "## Importing Libraries"
   ]
  },
  {
   "cell_type": "code",
   "execution_count": 1,
   "id": "e5ad23cc",
   "metadata": {},
   "outputs": [],
   "source": [
    "import numpy as np"
   ]
  },
  {
   "cell_type": "markdown",
   "id": "f1da5b88",
   "metadata": {},
   "source": [
    "## Dataset"
   ]
  },
  {
   "cell_type": "code",
   "execution_count": null,
   "id": "87c73566",
   "metadata": {},
   "outputs": [],
   "source": [
    "x_train = np.array([1.0, 1.7, 2.0, 2.5, 3.0, 3.2])  #features\n",
    "y_train = np.array([250, 300, 480,  430,  630, 730,]) #target value"
   ]
  },
  {
   "cell_type": "code",
   "execution_count": 14,
   "id": "455e4d77",
   "metadata": {},
   "outputs": [
    {
     "name": "stdout",
     "output_type": "stream",
     "text": [
      "(x^(0), y^(0)) = (1.0, 250)\n",
      "(x^(1), y^(1)) = (1.7, 300)\n",
      "(x^(2), y^(2)) = (2.0, 480)\n",
      "(x^(3), y^(3)) = (2.5, 430)\n",
      "(x^(4), y^(4)) = (3.0, 630)\n",
      "(x^(5), y^(5)) = (3.2, 730)\n"
     ]
    }
   ],
   "source": [
    "for i in range(len(x_train)):\n",
    "    x_i = x_train[i]\n",
    "    y_i = y_train[i]\n",
    "    print(f\"(x^({i}), y^({i})) = ({x_i}, {y_i})\")"
   ]
  },
  {
   "cell_type": "markdown",
   "id": "a95cf4e5",
   "metadata": {},
   "source": [
    "## Cost Function\n",
    "\n"
   ]
  },
  {
   "cell_type": "code",
   "execution_count": 10,
   "id": "be4fdbcd",
   "metadata": {},
   "outputs": [],
   "source": [
    "def compute_cost(x, y, w, b):\n",
    "   \n",
    "    m = x.shape[0]\n",
    "    cost = 0\n",
    "    for i in range(m):\n",
    "        f_wb = w*x[i]+b\n",
    "        cost += f_wb\n",
    "    total_cost = 1/(2*m)*cost\n",
    "    return total_cost"
   ]
  },
  {
   "cell_type": "markdown",
   "id": "3a92a277",
   "metadata": {},
   "source": [
    "## Gradient Descent\n"
   ]
  },
  {
   "cell_type": "code",
   "execution_count": 11,
   "id": "bb16d66d",
   "metadata": {},
   "outputs": [],
   "source": [
    "def gradient_descent(x, y, w_init, b_init, alpha, num_iters):\n",
    "    w = w_init\n",
    "    b = b_init\n",
    "    m = x.shape[0]\n",
    "    history = []\n",
    "\n",
    "    for _ in range(num_iters):\n",
    "        dj_dw = 0\n",
    "        dj_db = 0\n",
    "        for i in range(m):\n",
    "            f_wb = w * x[i] + b\n",
    "            dj_dw += (f_wb - y[i]) * x[i]\n",
    "            dj_db += (f_wb - y[i])\n",
    "        dj_dw /= m\n",
    "        dj_db /= m\n",
    "\n",
    "        w = w - alpha * dj_dw\n",
    "        b = b - alpha * dj_db\n",
    "\n",
    "        history.append((w, b))\n",
    "\n",
    "    return w, b, history"
   ]
  },
  {
   "cell_type": "markdown",
   "id": "7b3bdcd3",
   "metadata": {},
   "source": [
    "## Checking Values"
   ]
  },
  {
   "cell_type": "code",
   "execution_count": null,
   "id": "3725766e",
   "metadata": {},
   "outputs": [
    {
     "name": "stdout",
     "output_type": "stream",
     "text": [
      "Final parameters: w = 182.53453345671545, b = 67.40692553091009\n",
      "Predictions: [249.94145899 377.71563241 432.47599244 523.74325917 615.0105259\n",
      " 651.51743259]\n"
     ]
    }
   ],
   "source": [
    "# Initialize parameters\n",
    "w_init = 0.0\n",
    "b_init = 0.0\n",
    "alpha = 1e-2\n",
    "num_iters = 1000\n",
    "\n",
    "# Run gradient descent\n",
    "w_final, b_final, history = gradient_descent(x_train, y_train, w_init, b_init, alpha, num_iters)\n",
    "\n",
    "print(f\"Final parameters: w = {w_final}, b = {b_final}\")\n",
    "\n",
    "# Predict values using the trained model\n",
    "predictions = w_final * x_train + b_final\n",
    "print(\"Predictions:\", predictions)"
   ]
  },
  {
   "cell_type": "code",
   "execution_count": null,
   "id": "d7464e2f",
   "metadata": {},
   "outputs": [],
   "source": []
  }
 ],
 "metadata": {
  "kernelspec": {
   "display_name": "base",
   "language": "python",
   "name": "python3"
  },
  "language_info": {
   "codemirror_mode": {
    "name": "ipython",
    "version": 3
   },
   "file_extension": ".py",
   "mimetype": "text/x-python",
   "name": "python",
   "nbconvert_exporter": "python",
   "pygments_lexer": "ipython3",
   "version": "3.13.5"
  }
 },
 "nbformat": 4,
 "nbformat_minor": 5
}
